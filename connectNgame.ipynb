{
 "cells": [
  {
   "cell_type": "code",
   "execution_count": 1,
   "metadata": {
    "scrolled": false
   },
   "outputs": [],
   "source": [
    "from math import pi\n",
    "from ipycanvas import Canvas\n",
    "from ipywidgets import widgets\n",
    "from IPython.display import display, HTML\n",
    "from enum import Enum\n",
    "import numpy as np"
   ]
  },
  {
   "cell_type": "code",
   "execution_count": 2,
   "metadata": {
    "scrolled": false
   },
   "outputs": [],
   "source": [
    "class PieceColor(Enum):\n",
    "    empty = 0\n",
    "    black = -1\n",
    "    white = +1"
   ]
  },
  {
   "cell_type": "code",
   "execution_count": 3,
   "metadata": {
    "scrolled": false
   },
   "outputs": [],
   "source": [
    "class DrawBoard:\n",
    "    def __init__(\n",
    "        self,\n",
    "        canvas,\n",
    "        width,\n",
    "        height,\n",
    "        offsetx = 2,\n",
    "        offsety = 2,\n",
    "        unit = 20\n",
    "    ):\n",
    "        self.fonts = [\n",
    "            (36, \"36px serif\"),\n",
    "            (24, \"24px serif\"),\n",
    "            (16, \"16px serif\"),\n",
    "            (12, \"12px serif\"),\n",
    "            (8,  \"8px serif\"),\n",
    "            (0,  \"\")\n",
    "        ]\n",
    "        self.canvas = canvas\n",
    "        self.unit = unit\n",
    "        self.offsetx = offsetx\n",
    "        self.offsety = offsety\n",
    "        self.width = width\n",
    "        self.height = height\n",
    "\n",
    "    def draw(self):\n",
    "        self.canvas.stroke_style = \"black\"\n",
    "        self.canvas.begin_path()\n",
    "        for x in range(self.offsetx, self.offsetx + self.width):\n",
    "            self.canvas.move_to(x * self.unit, self.offsety * self.unit)\n",
    "            self.canvas.line_to(x * self.unit, (self.offsety + self.height - 1) * self.unit)\n",
    "        for y in range(self.offsety, self.offsety + self.height):\n",
    "            self.canvas.move_to(self.offsetx * self.unit, y * self.unit)\n",
    "            self.canvas.line_to((self.offsetx + self.width - 1) * self.unit, y * self.unit)\n",
    "        self.canvas.stroke()\n",
    "        \n",
    "    def clear_piece(self, x, y):\n",
    "        px, py = (x + self.offsetx) * self.unit, (y + self.offsety) * self.unit\n",
    "        self.canvas.clear_rect(\n",
    "            px - (self.unit + 1) // 2,\n",
    "            py - (self.unit + 1) // 2,\n",
    "            (self.unit + 1) // 2 * 2,\n",
    "            (self.unit + 1) // 2 * 2\n",
    "        )\n",
    "        \n",
    "    def piece(self, x, y, color, nmove = None):\n",
    "        self.canvas.stroke_style = \"black\"\n",
    "        self.canvas.fill_style = \"black\" if color == PieceColor.black else \"white\"\n",
    "        px, py = (x + self.offsetx) * self.unit, (y + self.offsety) * self.unit\n",
    "        radius = self.unit // 2 - 1\n",
    "        self.canvas.stroke_arc(px, py, radius, 0, 2 * pi)\n",
    "        self.canvas.fill_arc(px, py, radius, 0, 2 * pi)\n",
    "        font_offset = 0\n",
    "        if nmove != None:\n",
    "            label = str(nmove)\n",
    "            for threshold, font in self.fonts:\n",
    "                if self.unit > len(label) * threshold:\n",
    "                    self.canvas.font = font\n",
    "                    font_offset = threshold\n",
    "                    break\n",
    "            self.canvas.fill_style = \"white\" if color == PieceColor.black else \"black\"\n",
    "            self.canvas.fill_text(\n",
    "                label,\n",
    "                px - int(font_offset / 2 * len(label) / 2),\n",
    "                py + font_offset // 3,\n",
    "                self.unit\n",
    "            )\n",
    "\n",
    "    def line(self, connected_pieces, color):\n",
    "        self.canvas.fill_style = \"black\" if color == PieceColor.white else \"white\"\n",
    "        for x, y in connected_pieces:\n",
    "            px, py = (x + self.offsetx) * self.unit, (y + self.offsety) * self.unit\n",
    "            self.canvas.fill_rect(\n",
    "                px - self.unit // 6,\n",
    "                py - self.unit // 6,\n",
    "                self.unit // 3,\n",
    "                self.unit // 3\n",
    "            )\n",
    "\n",
    "    def where(self, x, y):\n",
    "        x = x - self.offsetx * self.unit\n",
    "        y = y - self.offsety * self.unit\n",
    "        x = int((x + self.unit // 2) // self.unit)\n",
    "        y = int((y + self.unit // 2) // self.unit)\n",
    "        if x < 0 or x >= self.width:\n",
    "            return None\n",
    "        if y < 0 or y >= self.height:\n",
    "            return None\n",
    "        return x, y\n"
   ]
  },
  {
   "cell_type": "code",
   "execution_count": 4,
   "metadata": {
    "scrolled": false
   },
   "outputs": [
    {
     "data": {
      "application/vnd.jupyter.widget-view+json": {
       "model_id": "44bbe14ca45340f2a26a0787588e35ee",
       "version_major": 2,
       "version_minor": 0
      },
      "text/plain": [
       "Output()"
      ]
     },
     "metadata": {},
     "output_type": "display_data"
    }
   ],
   "source": [
    "out = widgets.Output()\n",
    "class Game:\n",
    "    def __init__(\n",
    "        self,\n",
    "        width,\n",
    "        height,\n",
    "        win,\n",
    "        move,\n",
    "        imove,\n",
    "        size = (500, 500),\n",
    "    ):\n",
    "        if size:\n",
    "            self.canvas = Canvas(size = size)\n",
    "        else:\n",
    "            self.canvas = None\n",
    "        self.width, self.height = width, height\n",
    "        self.win = win\n",
    "        self.move = move\n",
    "        self.imove = imove\n",
    "        self.nmoves = -self.imove\n",
    "        self.finish = PieceColor.empty\n",
    "        self.matrix = np.zeros((width + 2, height + 2), dtype=np.int)\n",
    "        self.neighbors = [(1, 1), (1, -1), (1, 0), (0, 1)]\n",
    "        assert(self.width >= self.win and self.height >= self.win)\n",
    "        if self.canvas:\n",
    "            unit = width if width < height else height\n",
    "            canvas_size = size[0] if size[0] < size[1] else size[1]\n",
    "            unit = canvas_size // (unit + 4)\n",
    "            self.board = DrawBoard(\n",
    "                self.canvas,\n",
    "                self.width,\n",
    "                self.height,\n",
    "                2,\n",
    "                2,\n",
    "                unit\n",
    "            )\n",
    "            self.board.draw()\n",
    "            for x in range(self.imove):\n",
    "                self.board.piece(x, -1, PieceColor.black)\n",
    "            self.canvas.on_mouse_down(lambda x, y: self.do_move(x, y))\n",
    "\n",
    "    def check_connection(self, x, y, color):\n",
    "        for direction, (dx, dy) in enumerate(self.neighbors):\n",
    "            connected_pieces = [(x, y)]\n",
    "            for s in -1, 1:\n",
    "                for i in range(1, self.win):\n",
    "                    nx, ny = x + dx * i * s, y + dy * i * s\n",
    "                    if self.matrix[nx, ny] == color:\n",
    "                        connected_pieces.append((nx, ny))\n",
    "                    else:\n",
    "                        break\n",
    "            if len(connected_pieces) >= self.win:\n",
    "                return connected_pieces\n",
    "        return []\n",
    "\n",
    "    @out.capture()\n",
    "    def do_move(self, x, y):\n",
    "        if self.finish != PieceColor.empty:\n",
    "            return\n",
    "        position = self.board.where(x, y)\n",
    "        if position == None:\n",
    "            return\n",
    "        px, py = position\n",
    "        mx, my = px + 1, py + 1\n",
    "        if np.sum(self.matrix[mx, my]) != PieceColor.empty.value:\n",
    "            return\n",
    "        nmoves = self.nmoves // self.move if self.nmoves >= 0 else -1\n",
    "        color = PieceColor.white if nmoves % 2 == 0 else PieceColor.black\n",
    "        self.matrix[mx, my] = color.value\n",
    "        self.nmoves += 1\n",
    "        if self.canvas:\n",
    "            self.board.piece(px, py, color, self.nmoves + self.imove)\n",
    "            nmoves = self.nmoves // self.move if self.nmoves >= 0 else -1\n",
    "            color_next = PieceColor.white if nmoves % 2 == 0 else PieceColor.black\n",
    "            pieces = -self.nmoves if self.nmoves < 0 else self.move - self.nmoves % self.move\n",
    "            for i in range(self.imove if self.imove > self.move else self.move):\n",
    "                if i >= pieces:\n",
    "                    self.board.clear_piece(i, -1)\n",
    "                else:\n",
    "                    self.board.piece(i, -1, color_next)\n",
    "        connected_pieces = self.check_connection(mx, my, color.value)\n",
    "        if connected_pieces:\n",
    "            connected_pieces = [(x[0] - 1, x[1] - 1) for x in connected_pieces]\n",
    "            self.finish = color\n",
    "            if self.canvas:\n",
    "                self.board.line(connected_pieces, color)\n",
    "display(out)"
   ]
  },
  {
   "cell_type": "code",
   "execution_count": 5,
   "metadata": {
    "scrolled": false
   },
   "outputs": [
    {
     "data": {
      "application/vnd.jupyter.widget-view+json": {
       "model_id": "e2ccb091985149e5897531aeac2144cd",
       "version_major": 2,
       "version_minor": 0
      },
      "text/plain": [
       "Canvas(layout=Layout(height='600px', width='600px'), size=(600, 600))"
      ]
     },
     "metadata": {},
     "output_type": "display_data"
    }
   ],
   "source": [
    "game = Game(19, 19, 6, 3, 5, (600, 600))\n",
    "game.canvas"
   ]
  }
 ],
 "metadata": {
  "kernelspec": {
   "display_name": "Python 3",
   "language": "python",
   "name": "python3"
  },
  "language_info": {
   "codemirror_mode": {
    "name": "ipython",
    "version": 3
   },
   "file_extension": ".py",
   "mimetype": "text/x-python",
   "name": "python",
   "nbconvert_exporter": "python",
   "pygments_lexer": "ipython3",
   "version": "3.8.0"
  }
 },
 "nbformat": 4,
 "nbformat_minor": 2
}
