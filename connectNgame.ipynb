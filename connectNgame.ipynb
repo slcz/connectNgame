{
 "cells": [
  {
   "cell_type": "markdown",
   "metadata": {},
   "source": [
    "# Connect N games (gomoku, connect 6)\n",
    "This is generalized connect 6 [games](http://en.wikipedia.org/wiki/Connect6) invented by professor [吳毅成](https://en.wikipedia.org/wiki/I-Chen_Wu). A game is described as a tuple of $G(m, n, c, i, j)$. Black and white players take turns to play on a $m \\cdot n$ go-like board, black plays initial $i$ moves and afterwards each player alternately plays $j$ pieces. The one who connects $c$ pieces horizontally, vertically or diagonally wins.\n",
    "\n",
    "A gomoku game can be described as G(15, 15, 5, 1, 1) and a connect 6 games can be described as G(19, 19, 6, 1, 2)."
   ]
  },
  {
   "cell_type": "code",
   "execution_count": 8,
   "metadata": {
    "scrolled": false
   },
   "outputs": [],
   "source": [
    "from math import pi\n",
    "from ipycanvas import Canvas\n",
    "from ipywidgets import widgets\n",
    "from IPython.display import display, HTML\n",
    "from enum import Enum\n",
    "import numpy as np"
   ]
  },
  {
   "cell_type": "markdown",
   "metadata": {},
   "source": [
    "DrawBoard class supports interactive game playing using [ipycanvas](https://github.com/martinRenou/ipycanvas). An abstract game board is represented as a dimension $m, n$ numpy array. Where each cell is represented as either,\n",
    "    1. empty 0\n",
    "    2. black -1\n",
    "    3. white +1\n",
    "This way, the black pieces can be find out by using ```board < 0``` and white by ```board > 0```."
   ]
  },
  {
   "cell_type": "code",
   "execution_count": 9,
   "metadata": {
    "scrolled": false
   },
   "outputs": [],
   "source": [
    "class PieceColor(Enum):\n",
    "    empty = 0\n",
    "    black = -1\n",
    "    white = +1"
   ]
  },
  {
   "cell_type": "code",
   "execution_count": 10,
   "metadata": {
    "scrolled": false
   },
   "outputs": [],
   "source": [
    "class DrawBoard:\n",
    "    def __init__(\n",
    "        self,\n",
    "        canvas,\n",
    "        width,\n",
    "        height,\n",
    "        offsetx = 2,\n",
    "        offsety = 2,\n",
    "        unit = 20\n",
    "    ):\n",
    "        \"\"\"\n",
    "        Initialize an empty drawing board.\n",
    "        Args:\n",
    "            canvas: An ipycanvas object, at least (width + offsetx) * unit wide\n",
    "                    and (height + offsety) * unit tall.\n",
    "            width, height: dimension of the board\n",
    "            offsetx, offsety: position of the top-left corner.\n",
    "            unit: cell size.\n",
    "        \"\"\"\n",
    "        self.fonts = [\n",
    "            (36, \"36px serif\"),\n",
    "            (24, \"24px serif\"),\n",
    "            (16, \"16px serif\"),\n",
    "            (12, \"12px serif\"),\n",
    "            (8,  \"8px serif\"),\n",
    "            (0,  \"\")\n",
    "        ]\n",
    "        self.canvas = canvas\n",
    "        self.unit = unit\n",
    "        self.offsetx = offsetx\n",
    "        self.offsety = offsety\n",
    "        self.width = width\n",
    "        self.height = height\n",
    "\n",
    "        \n",
    "    def draw(self):\n",
    "        '''\n",
    "        Draw an empty board\n",
    "        '''\n",
    "        self.canvas.stroke_style = \"black\"\n",
    "        self.canvas.begin_path()\n",
    "        for x in range(self.offsetx, self.offsetx + self.width):\n",
    "            self.canvas.move_to(x * self.unit, self.offsety * self.unit)\n",
    "            self.canvas.line_to(x * self.unit, (self.offsety + self.height - 1) * self.unit)\n",
    "        for y in range(self.offsety, self.offsety + self.height):\n",
    "            self.canvas.move_to(self.offsetx * self.unit, y * self.unit)\n",
    "            self.canvas.line_to((self.offsetx + self.width - 1) * self.unit, y * self.unit)\n",
    "        self.canvas.stroke()\n",
    "        \n",
    "    def piece(self, x, y, color, nmove = None):\n",
    "        '''\n",
    "        draw a piece at coordinate x, y\n",
    "        Args:\n",
    "            x, y: coordinates of the stone.\n",
    "            color: color of the stone, if color is PieceColor.empty, clear the cell\n",
    "            nmove: A number, if not None, label the stone with nmove\n",
    "        '''\n",
    "        px, py = (x + self.offsetx) * self.unit, (y + self.offsety) * self.unit\n",
    "        if color == PieceColor.empty:\n",
    "            self.canvas.clear_rect(\n",
    "                px - (self.unit + 1) // 2,\n",
    "                py - (self.unit + 1) // 2,\n",
    "                (self.unit + 1) // 2 * 2,\n",
    "                (self.unit + 1) // 2 * 2\n",
    "            )\n",
    "            return\n",
    "        self.canvas.stroke_style = \"black\"\n",
    "        self.canvas.fill_style = \"black\" if color == PieceColor.black else \"white\"\n",
    "        radius = self.unit // 2 - 1\n",
    "        self.canvas.stroke_arc(px, py, radius, 0, 2 * pi)\n",
    "        self.canvas.fill_arc(px, py, radius, 0, 2 * pi)\n",
    "        font_offset = 0\n",
    "        # draw label\n",
    "        if nmove != None:\n",
    "            label = str(nmove)\n",
    "            for threshold, font in self.fonts:\n",
    "                if self.unit > len(label) * threshold:\n",
    "                    self.canvas.font = font\n",
    "                    font_offset = threshold\n",
    "                    break\n",
    "            self.canvas.fill_style = \"white\" if color == PieceColor.black else \"black\"\n",
    "            self.canvas.fill_text(\n",
    "                label,\n",
    "                px - int(font_offset / 2 * len(label) / 2),\n",
    "                py + font_offset // 3,\n",
    "                self.unit\n",
    "            )\n",
    "\n",
    "    def mark(self, connected_pieces, color):\n",
    "        '''\n",
    "        Mark connected_pieces with color. Used at the end of the game to mark the\n",
    "        pieces that form the straight line.\n",
    "        Args:\n",
    "            connected_pieces: A list of pieces that form the straight line (winning condition)\n",
    "            color: color of the pieces.\n",
    "        '''\n",
    "        self.canvas.fill_style = \"black\" if color == PieceColor.white else \"white\"\n",
    "        for x, y in connected_pieces:\n",
    "            px, py = (x + self.offsetx) * self.unit, (y + self.offsety) * self.unit\n",
    "            self.canvas.fill_rect(\n",
    "                px - self.unit // 6,\n",
    "                py - self.unit // 6,\n",
    "                self.unit // 3,\n",
    "                self.unit // 3\n",
    "            )\n",
    "\n",
    "    def where(self, x, y):\n",
    "        '''\n",
    "        returns position on the board ((0, width), (0, height)), giving absolute\n",
    "        ipycanvas coordinates (mouse position)\n",
    "        Args:\n",
    "            x, y: mouse position\n",
    "        Returns:\n",
    "            None, if the mouse position is out of board.\n",
    "            Position on the board ((0, width), (0, height))\n",
    "        '''\n",
    "        x = x - self.offsetx * self.unit\n",
    "        y = y - self.offsety * self.unit\n",
    "        x = int((x + self.unit // 2) // self.unit)\n",
    "        y = int((y + self.unit // 2) // self.unit)\n",
    "        if x < 0 or x >= self.width:\n",
    "            return None\n",
    "        if y < 0 or y >= self.height:\n",
    "            return None\n",
    "        return x, y\n"
   ]
  },
  {
   "cell_type": "markdown",
   "metadata": {},
   "source": [
    "Game is the implementation of connectN game."
   ]
  },
  {
   "cell_type": "code",
   "execution_count": 20,
   "metadata": {
    "scrolled": false
   },
   "outputs": [
    {
     "data": {
      "application/vnd.jupyter.widget-view+json": {
       "model_id": "ceb03365bc4e4e7e95f94c4341d8e26e",
       "version_major": 2,
       "version_minor": 0
      },
      "text/plain": [
       "Output()"
      ]
     },
     "metadata": {},
     "output_type": "display_data"
    }
   ],
   "source": [
    "# console\n",
    "out = widgets.Output()\n",
    "\n",
    "class Game:\n",
    "    def __init__(\n",
    "        self,\n",
    "        M,\n",
    "        N,\n",
    "        C,\n",
    "        I,\n",
    "        J,\n",
    "        size = (500, 500),\n",
    "    ):\n",
    "        '''\n",
    "        Initialize a game of $G(M, N, C, I, J)\n",
    "        Args:\n",
    "            M, N: width and height of the board.\n",
    "            C: Number of stones connected to win.\n",
    "            I: Number of initial moves.\n",
    "            J: Number of moves by a player before changing side.\n",
    "            size: canvas size (for interactive games).\n",
    "        '''\n",
    "        self.canvas = Canvas(size = size) if size else None\n",
    "        self.width, self.height = M, N \n",
    "        self.win = C\n",
    "        self.move = J\n",
    "        self.imove = I\n",
    "        self.nmoves = -self.imove\n",
    "        self.finish = PieceColor.empty\n",
    "        self.matrix = np.zeros((self.width + 2, self.height + 2), dtype=np.int)\n",
    "        self.neighbors = [(1, 1), (1, -1), (1, 0), (0, 1)]\n",
    "        assert(self.width >= self.win and self.height >= self.win)\n",
    "        if self.canvas:\n",
    "            unit = self.width if self.width < self.height else self.height\n",
    "            canvas_size = size[0] if size[0] < size[1] else size[1]\n",
    "            unit = canvas_size // (unit + 4)\n",
    "            self.board = DrawBoard(\n",
    "                self.canvas,\n",
    "                self.width,\n",
    "                self.height,\n",
    "                2,\n",
    "                2,\n",
    "                unit\n",
    "            )\n",
    "            self.board.draw()\n",
    "            for x in range(self.imove):\n",
    "                self.board.piece(x, -1, PieceColor.black)\n",
    "            self.canvas.on_mouse_down(lambda x, y: self.do_move(x, y))\n",
    "\n",
    "    def check_connection(self, x, y, color):\n",
    "        '''\n",
    "        Check win condition.\n",
    "        Args:\n",
    "            x, y: position of the last move\n",
    "            color: color of the last move\n",
    "        Returns:\n",
    "            Array of postion of stones that form a winning condition.\n",
    "            If the array is empty, the game is not finished.\n",
    "        '''\n",
    "        for direction, (dx, dy) in enumerate(self.neighbors):\n",
    "            connected_pieces = [(x, y)]\n",
    "            for s in -1, 1:\n",
    "                for i in range(1, self.win):\n",
    "                    nx, ny = x + dx * i * s, y + dy * i * s\n",
    "                    if self.matrix[nx, ny] == color:\n",
    "                        connected_pieces.append((nx, ny))\n",
    "                    else:\n",
    "                        break\n",
    "            if len(connected_pieces) >= self.win:\n",
    "                return connected_pieces\n",
    "        return []\n",
    "\n",
    "    @out.capture()\n",
    "    def do_move(self, x, y):\n",
    "        '''\n",
    "        One party makes a move, updates state, check winning condition and set self.finish\n",
    "        to the player who wins the game.\n",
    "        Args:\n",
    "            x, y: position of the piece.\n",
    "        '''\n",
    "        if self.finish != PieceColor.empty:\n",
    "            return\n",
    "        position = self.board.where(x, y)\n",
    "        if position == None:\n",
    "            return\n",
    "        px, py = position\n",
    "        mx, my = px + 1, py + 1\n",
    "        if np.sum(self.matrix[mx, my]) != PieceColor.empty.value:\n",
    "            return\n",
    "        nmoves = self.nmoves // self.move if self.nmoves >= 0 else -1\n",
    "        color = PieceColor.white if nmoves % 2 == 0 else PieceColor.black\n",
    "        self.matrix[mx, my] = color.value\n",
    "        self.nmoves += 1\n",
    "        if self.canvas:\n",
    "            self.board.piece(px, py, color, self.nmoves + self.imove)\n",
    "            nmoves = self.nmoves // self.move if self.nmoves >= 0 else -1\n",
    "            color_next = PieceColor.white if nmoves % 2 == 0 else PieceColor.black\n",
    "            pieces = -self.nmoves if self.nmoves < 0 else self.move - self.nmoves % self.move\n",
    "            for i in range(self.imove if self.imove > self.move else self.move):\n",
    "                if i >= pieces:\n",
    "                    self.board.piece(i, -1, PieceColor.empty)\n",
    "                else:\n",
    "                    self.board.piece(i, -1, color_next)\n",
    "        connected_pieces = self.check_connection(mx, my, color.value)\n",
    "        if connected_pieces:\n",
    "            connected_pieces = [(x[0] - 1, x[1] - 1) for x in connected_pieces]\n",
    "            self.finish = color\n",
    "            if self.canvas:\n",
    "                self.board.mark(connected_pieces, color)\n",
    "display(out)"
   ]
  },
  {
   "cell_type": "markdown",
   "metadata": {},
   "source": [
    "This is sample interactive game $G(19, 19, 6, 5, 3)$. Played on 19 x 19 board, and first player (black) makes 5 initial moves and each player makes 3 moves alternately after. The one who connects 5 stones in a line wins."
   ]
  },
  {
   "cell_type": "code",
   "execution_count": 22,
   "metadata": {
    "scrolled": false
   },
   "outputs": [
    {
     "data": {
      "application/vnd.jupyter.widget-view+json": {
       "model_id": "9019282f97194cd4b8064c043c6b1298",
       "version_major": 2,
       "version_minor": 0
      },
      "text/plain": [
       "Canvas(layout=Layout(height='600px', width='600px'), size=(600, 600))"
      ]
     },
     "metadata": {},
     "output_type": "display_data"
    }
   ],
   "source": [
    "game = Game(19, 19, 6, 5, 3, (600, 600))\n",
    "game.canvas"
   ]
  }
 ],
 "metadata": {
  "kernelspec": {
   "display_name": "Python 3",
   "language": "python",
   "name": "python3"
  },
  "language_info": {
   "codemirror_mode": {
    "name": "ipython",
    "version": 3
   },
   "file_extension": ".py",
   "mimetype": "text/x-python",
   "name": "python",
   "nbconvert_exporter": "python",
   "pygments_lexer": "ipython3",
   "version": "3.8.0"
  }
 },
 "nbformat": 4,
 "nbformat_minor": 2
}
